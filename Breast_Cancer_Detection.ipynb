{
  "cells": [
    {
      "cell_type": "markdown",
      "id": "1c1f63aa",
      "metadata": {
        "id": "1c1f63aa"
      },
      "source": [
        "## Importing Libraries"
      ]
    },
    {
      "cell_type": "code",
      "execution_count": null,
      "id": "0298955f",
      "metadata": {
        "id": "0298955f"
      },
      "outputs": [],
      "source": [
        "import pandas as pd\n",
        "import numpy as np\n",
        "import matplotlib.pyplot as plt\n",
        "from sklearn import tree\n",
        "from sklearn.impute import SimpleImputer\n",
        "from sklearn.impute import KNNImputer\n",
        "import seaborn as sns\n",
        "from sklearn.preprocessing import scale\n",
        "from sklearn import model_selection\n",
        "from sklearn.model_selection import RepeatedKFold\n",
        "from sklearn.model_selection import train_test_split\n",
        "from sklearn.decomposition import PCA\n",
        "from sklearn.linear_model import LinearRegression\n",
        "from sklearn.metrics import mean_squared_error\n",
        "from sklearn import svm\n",
        "from sklearn.svm import SVC\n",
        "from sklearn.metrics import classification_report, confusion_matrix\n",
        "from sklearn.model_selection import StratifiedShuffleSplit\n",
        "from sklearn.model_selection import GridSearchCV\n",
        "from sklearn.utils import resample\n",
        "from sklearn.cluster import KMeans\n",
        "from sklearn.metrics import silhouette_score\n",
        "import warnings\n",
        "warnings.filterwarnings(\"ignore\")\n",
        "from sklearn import preprocessing\n",
        "from sklearn.metrics import precision_score\n",
        "from sklearn.metrics import recall_score\n",
        "from sklearn.metrics import f1_score\n",
        "from sklearn.metrics import auc\n",
        "from sklearn.metrics import roc_auc_score\n",
        "from sklearn.metrics import roc_curve\n",
        "from sklearn.metrics import accuracy_score\n",
        "from sklearn.multiclass import OneVsRestClassifier\n",
        "from sklearn.cluster import SpectralClustering\n",
        "from sklearn.utils import shuffle\n",
        "import matplotlib.pyplot as plt"
      ]
    },
    {
      "cell_type": "code",
      "execution_count": null,
      "id": "6d3b20e8",
      "metadata": {
        "id": "6d3b20e8"
      },
      "outputs": [],
      "source": [
        "BCW = pd.read_csv(\"../Data/wdbc.data\", names = np.arange(1,33).tolist())\n",
        "BCW = BCW.drop(1, axis = 1)"
      ]
    },
    {
      "cell_type": "markdown",
      "id": "42ea2c3a",
      "metadata": {
        "id": "42ea2c3a"
      },
      "source": [
        "#  Monte-Carlo Simulation: Repeat the following procedures for supervised, un- supervised, and semi-supervised learning M = 30 times, and use randomly se- lected train and test data (make sure you use 20% of both the positve and nega- tive classes as the test set). Then compare the average scores (accuracy, precision, recall, F1-score, and AUC) that you obtain from each algorithm."
      ]
    },
    {
      "cell_type": "markdown",
      "id": "9f265e4f",
      "metadata": {
        "id": "9f265e4f"
      },
      "source": [
        "## Normalizing Data"
      ]
    },
    {
      "cell_type": "code",
      "execution_count": null,
      "id": "5fc28b69",
      "metadata": {
        "id": "5fc28b69"
      },
      "outputs": [],
      "source": [
        "scaler = preprocessing.MinMaxScaler()\n",
        "d = scaler.fit_transform(BCW.drop(2, axis = 1))\n",
        "scaled_df = pd.DataFrame(d)\n",
        "scaled_df['Target'] = BCW[2]\n",
        "BCW = scaled_df"
      ]
    },
    {
      "cell_type": "markdown",
      "id": "67ba80de",
      "metadata": {
        "id": "67ba80de"
      },
      "source": [
        "## Splitting Data (20% of both the positve and nega- tive classes as the test set)"
      ]
    },
    {
      "cell_type": "code",
      "execution_count": null,
      "id": "ef96ef10",
      "metadata": {
        "id": "ef96ef10"
      },
      "outputs": [],
      "source": [
        "Malignant = BCW[BCW['Target'] == \"M\"]\n",
        "Benign = BCW[BCW['Target'] == \"B\"]\n",
        "# Here, we define a function that splits malignant and benign datapoints proportionately\n",
        "def split(Malignant, Benign):\n",
        "    X_train_m, X_test_m, y_train_m, y_test_m = train_test_split(Malignant.drop('Target', axis = 1),\n",
        "                                                        Malignant['Target'], test_size=0.2,shuffle = True)\n",
        "    X_train_b, X_test_b, y_train_b, y_test_b = train_test_split(Benign.drop('Target', axis = 1),\n",
        "                                                        Benign['Target'], test_size=0.2,shuffle = True)\n",
        "    X_train = X_train_m.append(X_train_b)\n",
        "    X_test = X_test_m.append(X_test_b)\n",
        "    y_train = y_train_m.append(y_train_b)\n",
        "    y_test = y_test_m.append(y_test_b)\n",
        "    return X_train, y_train, X_test, y_test"
      ]
    },
    {
      "cell_type": "code",
      "execution_count": null,
      "id": "7543ce1e",
      "metadata": {
        "id": "7543ce1e"
      },
      "outputs": [],
      "source": [
        "X_train, y_train, X_test, y_test = split(Malignant, Benign)\n",
        "X = X_train.append(X_test)\n",
        "y = y_train.append(y_test)"
      ]
    },
    {
      "cell_type": "markdown",
      "id": "c7340b10",
      "metadata": {
        "id": "c7340b10"
      },
      "source": [
        "# Supervised Learning: Train an L1-penalized SVM to classify the data."
      ]
    },
    {
      "cell_type": "code",
      "execution_count": null,
      "id": "729e6751",
      "metadata": {
        "id": "729e6751",
        "outputId": "9ccaee19-95da-419f-f1e8-f47ab64bcd9d"
      },
      "outputs": [
        {
          "data": {
            "text/plain": [
              "LinearSVC(dual=False, penalty='l1')"
            ]
          },
          "execution_count": 6,
          "metadata": {},
          "output_type": "execute_result"
        }
      ],
      "source": [
        "svclassifier = svm.LinearSVC(penalty=\"l1\", dual=False) #one vs rest\n",
        "svclassifier.fit(X_train, y_train)"
      ]
    },
    {
      "cell_type": "markdown",
      "id": "6dc2e3da",
      "metadata": {
        "id": "6dc2e3da"
      },
      "source": [
        "# 5 fold cross validation to choose the penalty parameter."
      ]
    },
    {
      "cell_type": "code",
      "execution_count": null,
      "id": "770fa0cf",
      "metadata": {
        "id": "770fa0cf"
      },
      "outputs": [],
      "source": [
        "C_range = np.logspace(-6, 50, 5)\n",
        "cv = StratifiedShuffleSplit(n_splits=5, test_size=0.2, random_state=42)\n",
        "param_grid = dict(C = C_range)"
      ]
    },
    {
      "cell_type": "markdown",
      "id": "1934fea1",
      "metadata": {
        "id": "1934fea1"
      },
      "source": [
        "### Running L1 penalized with best C over 30 iterations"
      ]
    },
    {
      "cell_type": "code",
      "execution_count": null,
      "id": "362a2876",
      "metadata": {
        "id": "362a2876"
      },
      "outputs": [],
      "source": [
        "accuracies_test = []\n",
        "precisions_test = []\n",
        "recalls_test = []\n",
        "f1s_test = []\n",
        "aucs_test = []\n",
        "accuracies_train = []\n",
        "precisions_train = []\n",
        "recalls_train = []\n",
        "f1s_train = []\n",
        "aucs_train = []\n",
        "# We will need a label encoder to find the metrics\n",
        "le = preprocessing.LabelEncoder()\n",
        "le.fit(y)\n",
        "for i in range (0, 30):\n",
        "    X_train, y_train, X_test, y_test = split(Malignant, Benign)\n",
        "    grid = GridSearchCV(svm.LinearSVC(penalty=\"l1\", dual=False), param_grid=param_grid, cv=cv)\n",
        "    grid.fit(X_train, y_train)\n",
        "    svclassifier = svm.LinearSVC(penalty=\"l1\", dual=False, C = grid.best_params_.get('C')) #one vs rest\n",
        "    svclassifier.fit(X_train, y_train)\n",
        "    y_pred_test = svclassifier.predict(X_test)\n",
        "    accuracies_test.append(svclassifier.score(X_test, y_test))\n",
        "    precisions_test.append(precision_score(y_test, y_pred_test, average='macro'))\n",
        "    recalls_test.append(recall_score(y_test, y_pred_test, average='macro'))\n",
        "    f1s_test.append(f1_score(y_test, y_pred_test, average='macro'))\n",
        "    fpr, tpr, ths = roc_curve(le.transform(y_test), le.transform(y_pred_test))\n",
        "    aucs_test.append(auc(fpr, tpr))\n",
        "\n",
        "    y_pred_train = svclassifier.predict(X_train)\n",
        "    accuracies_train.append(svclassifier.score(X_train, y_train))\n",
        "    precisions_train.append(precision_score(y_train, y_pred_train, average='macro'))\n",
        "    recalls_train.append(recall_score(y_train, y_pred_train, average='macro'))\n",
        "    f1s_train.append(f1_score(y_train, y_pred_train, average='macro'))\n",
        "    fpr, tpr, ths = roc_curve(le.transform(y_train), le.transform(y_pred_train))\n",
        "    aucs_train.append(auc(fpr, tpr))"
      ]
    },
    {
      "cell_type": "markdown",
      "id": "d75024ce",
      "metadata": {
        "id": "d75024ce"
      },
      "source": [
        "# Average accuracy, precision, recall, F1-score, and AUC, for both training and test sets over M runs"
      ]
    },
    {
      "cell_type": "code",
      "execution_count": null,
      "id": "71d2b2c3",
      "metadata": {
        "id": "71d2b2c3",
        "outputId": "71d01db4-f6fb-4f64-960e-53ac3e059fb5"
      },
      "outputs": [
        {
          "name": "stdout",
          "output_type": "stream",
          "text": [
            "The following are the metrics for Training\n",
            "\n",
            "Train Accuracy\t 0.9898678414096919\n",
            "Train Precision\t 0.990127381683882\n",
            "Train Recall\t 0.9881968234194957\n",
            "Train F1\t 0.9891388933181455\n",
            "Train AUC\t 0.9881968234194957\n",
            "\n",
            "\n",
            "The following are the metrics for Testing\n",
            "\n",
            "Test Accuracy\t 0.9657971014492754\n",
            "Test Precision\t 0.9640092402527379\n",
            "Test Recall\t 0.9636304909560721\n",
            "Test F1\t 0.9634670151592405\n",
            "Test AUC\t 0.9636304909560721\n"
          ]
        }
      ],
      "source": [
        "train_Accuracy = sum(accuracies_train)/len(accuracies_train)\n",
        "train_precision = sum(precisions_train)/len(precisions_train)\n",
        "train_recall = sum(recalls_train)/len(recalls_train)\n",
        "train_f1 = sum(f1s_train)/len(f1s_train)\n",
        "train_auc = sum(aucs_train)/len(aucs_train)\n",
        "test_Accuracy = sum(accuracies_test)/len(accuracies_test)\n",
        "test_precision = sum(precisions_test)/len(precisions_test)\n",
        "test_recall = sum(recalls_test)/len(recalls_test)\n",
        "test_f1 = sum(f1s_test)/len(f1s_test)\n",
        "test_auc = sum(aucs_test)/len(aucs_test)\n",
        "print(\"The following are the metrics for Training\")\n",
        "print(\"\\nTrain Accuracy\\t\", train_Accuracy)\n",
        "print(\"Train Precision\\t\", train_precision)\n",
        "print(\"Train Recall\\t\", train_recall)\n",
        "print(\"Train F1\\t\", train_f1)\n",
        "print(\"Train AUC\\t\", train_auc)\n",
        "print(\"\\n\\nThe following are the metrics for Testing\")\n",
        "print(\"\\nTest Accuracy\\t\", test_Accuracy)\n",
        "print(\"Test Precision\\t\", test_precision)\n",
        "print(\"Test Recall\\t\", test_recall)\n",
        "print(\"Test F1\\t\", test_f1)\n",
        "print(\"Test AUC\\t\", test_auc)"
      ]
    },
    {
      "cell_type": "markdown",
      "id": "567ed367",
      "metadata": {
        "id": "567ed367"
      },
      "source": [
        "# ROC and confusion matrix for training and testing in one of the runs."
      ]
    },
    {
      "cell_type": "code",
      "execution_count": null,
      "id": "d2739048",
      "metadata": {
        "id": "d2739048",
        "outputId": "611cd998-67ed-4afb-d618-cdc3906099ed"
      },
      "outputs": [
        {
          "name": "stdout",
          "output_type": "stream",
          "text": [
            "Area under the Receiver Operating Characteristic curve: 0.9864112945084604\n"
          ]
        },
        {
          "data": {
            "image/png": "[encoded data removed]",
            "text/plain": [
              "<Figure size 432x288 with 1 Axes>"
            ]
          },
          "metadata": {
            "needs_background": "light"
          },
          "output_type": "display_data"
        }
      ],
      "source": [
        "fpr, tpr, ths = roc_curve(le.transform(y_train), le.transform(y_pred_train))\n",
        "plt.plot(fpr, tpr)\n",
        "plt.title('ROC curve for Training')\n",
        "plt.xlabel('False Positive Rate')\n",
        "plt.ylabel('True Positive Rate')\n",
        "print('Area under the Receiver Operating Characteristic curve:',\n",
        "      auc(fpr, tpr))"
      ]
    },
    {
      "cell_type": "code",
      "execution_count": null,
      "id": "47b9ef34",
      "metadata": {
        "id": "47b9ef34",
        "outputId": "b5f7d118-7c63-47ee-afbb-89ce8321f536"
      },
      "outputs": [
        {
          "name": "stdout",
          "output_type": "stream",
          "text": [
            "Area under the Receiver Operating Characteristic curve: 0.974483204134367\n"
          ]
        },
        {
          "data": {
            "image/png": "[encoded data removed]",
            "text/plain": [
              "<Figure size 432x288 with 1 Axes>"
            ]
          },
          "metadata": {
            "needs_background": "light"
          },
          "output_type": "display_data"
        }
      ],
      "source": [
        "fpr, tpr, ths = roc_curve(le.transform(y_test), le.transform(y_pred_test))\n",
        "plt.plot(fpr, tpr)\n",
        "plt.title('ROC curve for Testing')\n",
        "print('Area under the Receiver Operating Characteristic curve:',\n",
        "      auc(fpr, tpr))"
      ]
    },
    {
      "cell_type": "code",
      "execution_count": null,
      "id": "68619ac5",
      "metadata": {
        "id": "68619ac5",
        "outputId": "7389b08d-06f6-474e-b350-68678c242bb5"
      },
      "outputs": [
        {
          "name": "stdout",
          "output_type": "stream",
          "text": [
            "Confusion matrix for Training data\n",
            " [[284   1]\n",
            " [  4 165]]\n",
            "\n",
            "\n",
            "Confusion matrix for Training data\n",
            " [[70  2]\n",
            " [ 1 42]]\n"
          ]
        }
      ],
      "source": [
        "print('Confusion matrix for Training data\\n', confusion_matrix(le.transform(y_train), le.transform(y_pred_train)))\n",
        "print('\\n\\nConfusion matrix for Training data\\n', confusion_matrix(le.transform(y_test), le.transform(y_pred_test)))"
      ]
    },
    {
      "cell_type": "markdown",
      "id": "ecbfb06f",
      "metadata": {
        "id": "ecbfb06f"
      },
      "source": [
        "# ii. Semi-Supervised Learning/ Self-training: Select 50% of the positive class along with 50% of the negative class in the training set as labeled data and the rest as unlabelled data."
      ]
    },
    {
      "cell_type": "code",
      "execution_count": null,
      "id": "d1a3875b",
      "metadata": {
        "id": "d1a3875b"
      },
      "outputs": [],
      "source": [
        "X_train_m, X_test_m, y_train_m, y_test_m = train_test_split(Malignant.drop('Target', axis = 1),\n",
        "                                                        Malignant['Target'], test_size=0.2,shuffle = True)\n",
        "X_train_b, X_test_b, y_train_b, y_test_b = train_test_split(Benign.drop('Target', axis = 1),\n",
        "                                                        Benign['Target'], test_size=0.2,shuffle = True)\n",
        "LabelledX = X_train_m[0:int(X_train_m.shape[0]/2)].append(X_train_b[0:int(X_train_b.shape[0]/2)])\n",
        "LabelledX = LabelledX.reset_index()\n",
        "LabelledX = LabelledX.drop('index', axis = 1)\n",
        "Labelledy = y_train_m[0:int(y_train_m.shape[0]/2)].append(y_train_b[0:int(y_train_b.shape[0]/2)])\n",
        "Labelledy = Labelledy.tolist()\n",
        "UnlabelledX = X_train_m[int(X_train_m.shape[0]/2):].append(X_train_b[int(X_train_b.shape[0]/2):])\n",
        "UnlabelledX = UnlabelledX.reset_index()\n",
        "UnlabelledX = UnlabelledX.drop('index', axis = 1)\n",
        "Unlabelledy = y_train_m[int(y_train_m.shape[0]/2):].append(y_train_b[int(y_train_b.shape[0]/2):])\n",
        "Unlabelledy = Unlabelledy.reset_index()\n",
        "Unlabelledy = Unlabelledy.drop('index', axis = 1)"
      ]
    },
    {
      "cell_type": "markdown",
      "id": "326ad039",
      "metadata": {
        "id": "326ad039"
      },
      "source": [
        "# A. Train an L1-penalized SVM to classify the labeled data. Use normalized data. Choose the penalty parameter using 5 fold cross validation.\n"
      ]
    },
    {
      "cell_type": "code",
      "execution_count": null,
      "id": "5b461bdc",
      "metadata": {
        "id": "5b461bdc",
        "outputId": "fc0c3237-b1aa-4f11-f66e-594e284b0664"
      },
      "outputs": [
        {
          "name": "stdout",
          "output_type": "stream",
          "text": [
            "The best parameters are {'C': 1e+50} with a score of 0.97\n"
          ]
        }
      ],
      "source": [
        "param_grid = dict(C = C_range)\n",
        "grid = GridSearchCV(svm.LinearSVC(penalty=\"l1\", dual=False), param_grid=param_grid, cv=cv)\n",
        "grid.fit(LabelledX, Labelledy)\n",
        "print(\n",
        "    \"The best parameters are %s with a score of %0.2f\"\n",
        "    % (grid.best_params_, grid.best_score_))\n",
        "# Setting initial model for 50% of Dataset\n",
        "ovr = OneVsRestClassifier(svm.LinearSVC(penalty=\"l1\", C = grid.best_params_.get('C'), dual=False)).fit(LabelledX, Labelledy)\n",
        ""
      ]
    },
    {
      "cell_type": "markdown",
      "id": "a1821f35",
      "metadata": {
        "id": "a1821f35"
      },
      "source": [
        "# B. Find the unlabeled data point that is the farthest to the decision boundary of the SVM. Let the SVM label it (ignore its true label), and add it to the labeled data, and retrain the SVM. Continue this process until all unlabeled data are used."
      ]
    },
    {
      "cell_type": "code",
      "execution_count": null,
      "id": "ce1c5363",
      "metadata": {
        "id": "ce1c5363",
        "outputId": "2749999d-207a-40d6-a479-adbfb0ebc54a"
      },
      "outputs": [
        {
          "name": "stdout",
          "output_type": "stream",
          "text": [
            "All Unlabelled data is now labelled\n"
          ]
        }
      ],
      "source": [
        "while len(UnlabelledX) != 0:\n",
        "    distance_to_decision_boundary = ovr.decision_function(UnlabelledX)\n",
        "    len(distance_to_decision_boundary)\n",
        "    #print('Farthest Datapoint from decision boundary is', np.argmax(distance_to_decision_boundary) ,'th datapoint')\n",
        "    LabelledX = LabelledX.append(UnlabelledX.iloc[np.argmax(distance_to_decision_boundary)])\n",
        "    #Labelledy = Labelledy.tolist()\n",
        "    Labelledy.append(Unlabelledy.iloc[np.argmax(distance_to_decision_boundary)][0])\n",
        "    UnlabelledX = UnlabelledX.drop(np.argmax(distance_to_decision_boundary))\n",
        "    Unlabelledy = Unlabelledy.drop(np.argmax(distance_to_decision_boundary))\n",
        "    LabelledX = LabelledX.reset_index()\n",
        "    LabelledX = LabelledX.drop('index', axis = 1)\n",
        "    #Labelledy = Labelledy.reset_index()\n",
        "    #Labelledy = Labelledy.drop('index', axis = 1)\n",
        "    UnlabelledX = UnlabelledX.reset_index()\n",
        "    UnlabelledX = UnlabelledX.drop('index', axis = 1)\n",
        "    Unlabelledy = Unlabelledy.reset_index()\n",
        "    Unlabelledy = Unlabelledy.drop('index', axis = 1)\n",
        "    grid.fit(LabelledX, Labelledy)\n",
        "    ovr = OneVsRestClassifier(svm.LinearSVC(penalty=\"l1\", C = grid.best_params_.get('C'), dual=False)).fit(LabelledX, Labelledy)\n",
        "print('All Unlabelled data is now labelled')\n"
      ]
    },
    {
      "cell_type": "markdown",
      "id": "faa2081c",
      "metadata": {
        "id": "faa2081c"
      },
      "source": [
        "# B.  Test the final SVM on the test data and the average accuracy, precision, recall, F1-score, and AUC, for both training and test sets over your M runs."
      ]
    },
    {
      "cell_type": "code",
      "execution_count": null,
      "id": "c52980f4",
      "metadata": {
        "id": "c52980f4",
        "outputId": "015b24bf-3c7b-43e6-e1df-6a6be0bb8d01"
      },
      "outputs": [
        {
          "name": "stdout",
          "output_type": "stream",
          "text": [
            "The following are the metrics for Training\n",
            "\n",
            "Train Accuracy\t 0.9911894273127756\n",
            "Train Precision\t 0.9917795071877151\n",
            "Train Recall\t 0.9893698743901175\n",
            "Train F1\t 0.9905511155511161\n",
            "Train AUC\t 0.9893698743901175\n",
            "\n",
            "\n",
            "The following are the metrics for Testing\n",
            "\n",
            "Test Accuracy\t 1.0\n",
            "Test Precision\t 1.0\n",
            "Test Recall\t 1.0\n",
            "Test F1\t 1.0\n",
            "Test AUC\t 1.0\n"
          ]
        }
      ],
      "source": [
        "accuracies_test = []\n",
        "precisions_test = []\n",
        "recalls_test = []\n",
        "f1s_test = []\n",
        "aucs_test = []\n",
        "accuracies_train = []\n",
        "precisions_train = []\n",
        "recalls_train = []\n",
        "f1s_train = []\n",
        "aucs_train = []\n",
        "for i in range (0, 30):\n",
        "    y_pred_test = ovr.predict(X_test)\n",
        "    accuracies_test.append(ovr.score(X_test, y_test))\n",
        "    precisions_test.append(precision_score(y_test, y_pred_test, average='macro'))\n",
        "    recalls_test.append(recall_score(y_test, y_pred_test, average='macro'))\n",
        "    f1s_test.append(f1_score(y_test, y_pred_test, average='macro'))\n",
        "    fpr, tpr, ths = roc_curve(le.transform(y_test), le.transform(y_pred_test))\n",
        "    aucs_test.append(auc(fpr, tpr))\n",
        "    y_pred_train = ovr.predict(LabelledX)\n",
        "    accuracies_train.append(ovr.score(LabelledX, Labelledy))\n",
        "    precisions_train.append(precision_score(Labelledy, y_pred_train, average='macro'))\n",
        "    recalls_train.append(recall_score(Labelledy, y_pred_train, average='macro'))\n",
        "    f1s_train.append(f1_score(Labelledy, y_pred_train, average='macro'))\n",
        "    fpr, tpr, ths = roc_curve(le.transform(Labelledy), le.transform(y_pred_train))\n",
        "    aucs_train.append(auc(fpr, tpr))\n",
        "test_Accuracy = sum(accuracies_test)/len(accuracies_test)\n",
        "test_precision = sum(precisions_test)/len(precisions_test)\n",
        "test_recall = sum(recalls_test)/len(recalls_test)\n",
        "test_f1 = sum(f1s_test)/len(f1s_test)\n",
        "test_auc = sum(aucs_test)/len(aucs_test)\n",
        "train_Accuracy = sum(accuracies_train)/len(accuracies_train)\n",
        "train_precision = sum(precisions_train)/len(precisions_train)\n",
        "train_recall = sum(recalls_train)/len(recalls_train)\n",
        "train_f1 = sum(f1s_train)/len(f1s_train)\n",
        "train_auc = sum(aucs_train)/len(aucs_train)\n",
        "print(\"The following are the metrics for Training\")\n",
        "print(\"\\nTrain Accuracy\\t\", train_Accuracy)\n",
        "print(\"Train Precision\\t\", train_precision)\n",
        "print(\"Train Recall\\t\", train_recall)\n",
        "print(\"Train F1\\t\", train_f1)\n",
        "print(\"Train AUC\\t\", train_auc)\n",
        "print(\"\\n\\nThe following are the metrics for Testing\")\n",
        "print(\"\\nTest Accuracy\\t\", test_Accuracy)\n",
        "print(\"Test Precision\\t\", test_precision)\n",
        "print(\"Test Recall\\t\", test_recall)\n",
        "print(\"Test F1\\t\", test_f1)\n",
        "print(\"Test AUC\\t\", test_auc)"
      ]
    },
    {
      "cell_type": "markdown",
      "id": "caa698ad",
      "metadata": {
        "id": "caa698ad"
      },
      "source": [
        "# B. Plot the ROC and report the confusion matrix for training and testing in one of the runs."
      ]
    },
    {
      "cell_type": "code",
      "execution_count": null,
      "id": "ce1f4cce",
      "metadata": {
        "id": "ce1f4cce",
        "outputId": "e6106dc7-566d-4a7b-aaea-77e68a4cb64c"
      },
      "outputs": [
        {
          "name": "stdout",
          "output_type": "stream",
          "text": [
            "Area under the Receiver Operating Characteristic curve: 0.9893698743901174\n"
          ]
        },
        {
          "data": {
            "image/png": "[encoded data removed]",
            "text/plain": [
              "<Figure size 432x288 with 1 Axes>"
            ]
          },
          "metadata": {
            "needs_background": "light"
          },
          "output_type": "display_data"
        }
      ],
      "source": [
        "fpr, tpr, ths = roc_curve(le.transform(Labelledy), le.transform(y_pred_train))\n",
        "plt.plot(fpr, tpr)\n",
        "plt.title('ROC curve')\n",
        "plt.xlabel('False Positive Rate')\n",
        "plt.ylabel('True Positive Rate')\n",
        "print('Area under the Receiver Operating Characteristic curve:',\n",
        "      auc(fpr, tpr))"
      ]
    },
    {
      "cell_type": "code",
      "execution_count": null,
      "id": "b3121d85",
      "metadata": {
        "id": "b3121d85",
        "outputId": "404128c1-f363-40c0-cb9e-b9a240f9982d"
      },
      "outputs": [
        {
          "name": "stdout",
          "output_type": "stream",
          "text": [
            "Area under the Receiver Operating Characteristic curve: 1.0\n"
          ]
        },
        {
          "data": {
            "image/png": "[encoded data removed]",
            "text/plain": [
              "<Figure size 432x288 with 1 Axes>"
            ]
          },
          "metadata": {
            "needs_background": "light"
          },
          "output_type": "display_data"
        }
      ],
      "source": [
        "fpr, tpr, ths = roc_curve(le.transform(y_test), le.transform(y_pred_test))\n",
        "plt.plot(fpr, tpr)\n",
        "plt.title('ROC curve')\n",
        "plt.xlabel('False Positive Rate')\n",
        "plt.ylabel('True Positive Rate')\n",
        "print('Area under the Receiver Operating Characteristic curve:',\n",
        "      auc(fpr, tpr))"
      ]
    },
    {
      "cell_type": "code",
      "execution_count": null,
      "id": "90acea7c",
      "metadata": {
        "id": "90acea7c",
        "outputId": "db306f73-e022-487c-e6ec-97f72703bd10"
      },
      "outputs": [
        {
          "name": "stdout",
          "output_type": "stream",
          "text": [
            "Confusion Matrix for training\n",
            " [[284   1]\n",
            " [  3 166]]\n",
            "\n",
            "\n",
            "Confusion Matrix for testing\n",
            " [[72  0]\n",
            " [ 0 43]]\n"
          ]
        }
      ],
      "source": [
        "print(\"Confusion Matrix for training\\n\", confusion_matrix(le.transform(Labelledy), le.transform(y_pred_train)))\n",
        "print(\"\\n\\nConfusion Matrix for testing\\n\", confusion_matrix(le.transform(y_test), le.transform(y_pred_test)))"
      ]
    },
    {
      "cell_type": "markdown",
      "id": "6eb88102",
      "metadata": {
        "id": "6eb88102"
      },
      "source": [
        "# iii. Unsupervised Learning: Run k-means algorithm on the whole training set. Ignore the labels of the data, and assume k = 2."
      ]
    },
    {
      "cell_type": "markdown",
      "id": "96cc6431",
      "metadata": {
        "id": "96cc6431"
      },
      "source": [
        "# A. Run the k-means algorithm multiple times. Make sure that you initialize the algoritm randomly. How do you make sure that the algorithm was not trapped in a local minimum?\n",
        "\n",
        "### K means is prone to be stuck in a local minimum. To ensure that this doesnt happen, we must run it multiple times and randomize the initialization of centroids everytime. After this, we take the best model amidst these. This will ensure that the model error is at its actual. minimum"
      ]
    },
    {
      "cell_type": "code",
      "execution_count": null,
      "id": "6da17514",
      "metadata": {
        "id": "6da17514",
        "outputId": "d09f5915-e2e1-4ce6-870c-6092fbf0d5e9"
      },
      "outputs": [
        {
          "name": "stdout",
          "output_type": "stream",
          "text": [
            "The best model as found by silhoutte coefficients is 0\n"
          ]
        }
      ],
      "source": [
        "sc = []\n",
        "for i in range (0, 10):\n",
        "    kmeans = KMeans(n_clusters=2, init = 'random')\n",
        "    kmeans.fit(X_train)\n",
        "    score = silhouette_score(X_train, kmeans.labels_)\n",
        "    sc.append(score)\n",
        "\n",
        "print('The best model as found by silhoutte coefficients is', np.argmax(sc))"
      ]
    },
    {
      "cell_type": "markdown",
      "id": "74d2edca",
      "metadata": {
        "id": "74d2edca"
      },
      "source": [
        "## B. Compute the centers of the two clusters and find the closest 30 data points to each center."
      ]
    },
    {
      "cell_type": "code",
      "execution_count": null,
      "id": "f019a82a",
      "metadata": {
        "id": "f019a82a",
        "outputId": "18c7dd5d-9a22-4f2e-c91a-976fd671dfb5"
      },
      "outputs": [
        {
          "name": "stdout",
          "output_type": "stream",
          "text": [
            "The centers of the 2 clusters are at the following coordinates\n",
            "\n",
            " [[0.49205188 0.39530276 0.49202738 0.34934715 0.45841059 0.407964\n",
            "  0.39922771 0.44669547 0.44921329 0.28955107 0.17742958 0.19320885\n",
            "  0.16703335 0.11719975 0.17799384 0.25923153 0.12320286 0.30468268\n",
            "  0.18895455 0.1340821  0.46417006 0.45278416 0.44988162 0.29745209\n",
            "  0.48965334 0.36107771 0.38176149 0.63854767 0.33423807 0.25972975]\n",
            " [0.24835947 0.28747393 0.24030496 0.13887351 0.36397718 0.18246163\n",
            "  0.10085114 0.1280146  0.34011253 0.26359173 0.06279925 0.1897248\n",
            "  0.05782676 0.02758381 0.18555426 0.12995245 0.05664314 0.17896623\n",
            "  0.17258558 0.08480775 0.20001922 0.3203902  0.18708484 0.09630769\n",
            "  0.36468442 0.14875531 0.12914625 0.25998063 0.22452463 0.15797608]]\n"
          ]
        }
      ],
      "source": [
        "print(\"The centers of the 2 clusters are at the following coordinates\\n\\n\", kmeans.cluster_centers_)"
      ]
    },
    {
      "cell_type": "markdown",
      "id": "59c4ada4",
      "metadata": {
        "id": "59c4ada4"
      },
      "source": [
        "### This dataframe has the distance of each datapoint to the closest cluster center along with the predicted class and actual label"
      ]
    },
    {
      "cell_type": "code",
      "execution_count": null,
      "id": "d5b5b68f",
      "metadata": {
        "id": "d5b5b68f",
        "outputId": "a7759f3a-9572-4b9d-ee41-c53d9cf765a0"
      },
      "outputs": [
        {
          "data": {
            "text/html": [
              "<div>\n",
              "<style scoped>\n",
              "    .dataframe tbody tr th:only-of-type {\n",
              "        vertical-align: middle;\n",
              "    }\n",
              "\n",
              "    .dataframe tbody tr th {\n",
              "        vertical-align: top;\n",
              "    }\n",
              "\n",
              "    .dataframe thead th {\n",
              "        text-align: right;\n",
              "    }\n",
              "</style>\n",
              "<table border=\"1\" class=\"dataframe\">\n",
              "  <thead>\n",
              "    <tr style=\"text-align: right;\">\n",
              "      <th></th>\n",
              "      <th>Distance from closest Centroid</th>\n",
              "      <th>Predicted cluster</th>\n",
              "      <th>True labels</th>\n",
              "    </tr>\n",
              "  </thead>\n",
              "  <tbody>\n",
              "    <tr>\n",
              "      <th>0</th>\n",
              "      <td>0.410694</td>\n",
              "      <td>0</td>\n",
              "      <td>M</td>\n",
              "    </tr>\n",
              "    <tr>\n",
              "      <th>1</th>\n",
              "      <td>0.655222</td>\n",
              "      <td>0</td>\n",
              "      <td>M</td>\n",
              "    </tr>\n",
              "    <tr>\n",
              "      <th>2</th>\n",
              "      <td>0.311157</td>\n",
              "      <td>1</td>\n",
              "      <td>M</td>\n",
              "    </tr>\n",
              "    <tr>\n",
              "      <th>3</th>\n",
              "      <td>0.253408</td>\n",
              "      <td>0</td>\n",
              "      <td>M</td>\n",
              "    </tr>\n",
              "    <tr>\n",
              "      <th>4</th>\n",
              "      <td>0.138795</td>\n",
              "      <td>0</td>\n",
              "      <td>M</td>\n",
              "    </tr>\n",
              "    <tr>\n",
              "      <th>...</th>\n",
              "      <td>...</td>\n",
              "      <td>...</td>\n",
              "      <td>...</td>\n",
              "    </tr>\n",
              "    <tr>\n",
              "      <th>449</th>\n",
              "      <td>0.299943</td>\n",
              "      <td>1</td>\n",
              "      <td>B</td>\n",
              "    </tr>\n",
              "    <tr>\n",
              "      <th>450</th>\n",
              "      <td>0.322305</td>\n",
              "      <td>1</td>\n",
              "      <td>B</td>\n",
              "    </tr>\n",
              "    <tr>\n",
              "      <th>451</th>\n",
              "      <td>0.133306</td>\n",
              "      <td>1</td>\n",
              "      <td>B</td>\n",
              "    </tr>\n",
              "    <tr>\n",
              "      <th>452</th>\n",
              "      <td>0.124699</td>\n",
              "      <td>1</td>\n",
              "      <td>B</td>\n",
              "    </tr>\n",
              "    <tr>\n",
              "      <th>453</th>\n",
              "      <td>0.883784</td>\n",
              "      <td>1</td>\n",
              "      <td>B</td>\n",
              "    </tr>\n",
              "  </tbody>\n",
              "</table>\n",
              "<p>454 rows × 3 columns</p>\n",
              "</div>"
            ],
            "text/plain": [
              "     Distance from closest Centroid  Predicted cluster True labels\n",
              "0                          0.410694                  0           M\n",
              "1                          0.655222                  0           M\n",
              "2                          0.311157                  1           M\n",
              "3                          0.253408                  0           M\n",
              "4                          0.138795                  0           M\n",
              "..                              ...                ...         ...\n",
              "449                        0.299943                  1           B\n",
              "450                        0.322305                  1           B\n",
              "451                        0.133306                  1           B\n",
              "452                        0.124699                  1           B\n",
              "453                        0.883784                  1           B\n",
              "\n",
              "[454 rows x 3 columns]"
            ]
          },
          "execution_count": 24,
          "metadata": {},
          "output_type": "execute_result"
        }
      ],
      "source": [
        "X_dist = kmeans.transform(X_train)**2\n",
        "mins = []\n",
        "for i in range (0, len(X_dist)):\n",
        "    mins.append(X_dist[i].min())\n",
        "kdistances = pd.DataFrame(mins, columns=['Distance from closest Centroid'])\n",
        "kdistances['Predicted cluster'] = kmeans.predict(X_train)\n",
        "kdistances['True labels'] = y_train.tolist()\n",
        "kdistances"
      ]
    },
    {
      "cell_type": "markdown",
      "id": "0f8893ea",
      "metadata": {
        "id": "0f8893ea"
      },
      "source": [
        "### The closest 30 points to each center are"
      ]
    },
    {
      "cell_type": "code",
      "execution_count": null,
      "id": "3c120a7d",
      "metadata": {
        "id": "3c120a7d",
        "outputId": "2a477b4e-1b8a-4b9f-d2e5-7a3df12f84c3"
      },
      "outputs": [
        {
          "name": "stdout",
          "output_type": "stream",
          "text": [
            "These are the 30 closest datapoints to the centroid in cluster 0\n",
            "\n",
            "     Distance from closest Centroid  Predicted cluster True labels\n",
            "140                        0.086786                  0           M\n",
            "11                         0.091817                  0           M\n",
            "124                        0.092082                  0           M\n",
            "151                        0.125336                  0           M\n",
            "98                         0.127538                  0           M\n",
            "58                         0.131340                  0           M\n",
            "101                        0.134967                  0           M\n",
            "113                        0.135392                  0           M\n",
            "4                          0.138795                  0           M\n",
            "137                        0.143131                  0           M\n",
            "14                         0.150309                  0           M\n",
            "7                          0.154239                  0           M\n",
            "164                        0.154255                  0           M\n",
            "90                         0.170430                  0           M\n",
            "68                         0.175412                  0           M\n",
            "48                         0.179624                  0           M\n",
            "31                         0.183496                  0           M\n",
            "63                         0.184057                  0           M\n",
            "100                        0.190831                  0           M\n",
            "95                         0.195087                  0           M\n",
            "127                        0.197981                  0           M\n",
            "51                         0.202395                  0           M\n",
            "135                        0.203989                  0           M\n",
            "92                         0.206413                  0           M\n",
            "111                        0.206660                  0           M\n",
            "165                        0.207629                  0           M\n",
            "66                         0.208995                  0           M\n",
            "162                        0.209044                  0           M\n",
            "97                         0.209921                  0           M\n",
            "53                         0.213695                  0           M\n",
            "\n",
            "\n",
            "These are the 30 closest datapoints to the centroid in cluster 1\n",
            "\n",
            "     Distance from closest Centroid  Predicted cluster True labels\n",
            "194                        0.020083                  1           B\n",
            "352                        0.022302                  1           B\n",
            "211                        0.035198                  1           B\n",
            "286                        0.039900                  1           B\n",
            "174                        0.040590                  1           B\n",
            "371                        0.049267                  1           B\n",
            "292                        0.056270                  1           B\n",
            "267                        0.056854                  1           B\n",
            "409                        0.058577                  1           B\n",
            "236                        0.059228                  1           B\n",
            "368                        0.060023                  1           B\n",
            "281                        0.060172                  1           B\n",
            "415                        0.061866                  1           B\n",
            "198                        0.063148                  1           B\n",
            "295                        0.063575                  1           B\n",
            "427                        0.065585                  1           B\n",
            "383                        0.067778                  1           B\n",
            "296                        0.067806                  1           B\n",
            "314                        0.069287                  1           B\n",
            "322                        0.069610                  1           B\n",
            "282                        0.071257                  1           B\n",
            "318                        0.072528                  1           B\n",
            "447                        0.074789                  1           B\n",
            "275                        0.075276                  1           B\n",
            "307                        0.075670                  1           B\n",
            "391                        0.076412                  1           B\n",
            "434                        0.077465                  1           B\n",
            "342                        0.079275                  1           B\n",
            "264                        0.079419                  1           B\n",
            "203                        0.080265                  1           B\n"
          ]
        }
      ],
      "source": [
        "print('These are the 30 closest datapoints to the centroid in cluster 0\\n')\n",
        "print(kdistances[kdistances['Predicted cluster']== 0].sort_values(by=['Distance from closest Centroid'])[:30])\n",
        "print('\\n\\nThese are the 30 closest datapoints to the centroid in cluster 1\\n')\n",
        "print(kdistances[kdistances['Predicted cluster']== 1].sort_values(by=['Distance from closest Centroid'])[:30])"
      ]
    },
    {
      "cell_type": "markdown",
      "id": "5f29314e",
      "metadata": {
        "id": "5f29314e"
      },
      "source": [
        "# B. Read the true labels of those 30 data points and take a majority poll within them. The majority poll becomes the label predicted by k-means for the members of each cluster."
      ]
    },
    {
      "cell_type": "markdown",
      "id": "7161cf2c",
      "metadata": {
        "id": "7161cf2c"
      },
      "source": [
        "## Clearly, cluster 0 has majority poll of Malignant and Cluster 1 has majority poll Benign.\n",
        "## Hence, the labels are cluster 0 -> benign. Cluster 1-> malignant"
      ]
    },
    {
      "cell_type": "markdown",
      "id": "943bf8ad",
      "metadata": {
        "id": "943bf8ad"
      },
      "source": [
        "# B. Then compare the labels provided by k-means with the true labels of the training data and report the average accuracy, precision, recall, F1-score, and AUC over M runs, and ROC and the confusion matrix for one of the runs."
      ]
    },
    {
      "cell_type": "code",
      "execution_count": null,
      "id": "b667a626",
      "metadata": {
        "id": "b667a626",
        "outputId": "fcd859bc-edef-4d31-e377-b2f2b5a2776f"
      },
      "outputs": [
        {
          "name": "stdout",
          "output_type": "stream",
          "text": [
            "The following are the metrics for Training\n",
            "\n",
            "Train Accuracy\t 0.9273127753303965\n",
            "Train Precision\t 0.9293581139218723\n",
            "Train Recall\t 0.9144088030727706\n",
            "Train F1\t 0.9209288824383164\n",
            "Train AUC\t 0.9144088030727706\n",
            "The confusuion matric for Training is\n",
            " [[275  10]\n",
            " [ 23 146]]\n",
            "\n",
            "Area under the Receiver Operating Characteristic curve: 0.9144088030727706\n"
          ]
        },
        {
          "data": {
            "image/png": "[encoded data removed]",
            "text/plain": [
              "<Figure size 432x288 with 1 Axes>"
            ]
          },
          "metadata": {
            "needs_background": "light"
          },
          "output_type": "display_data"
        }
      ],
      "source": [
        "y_pred = kmeans.predict(X_train)\n",
        "train_Accuracy = accuracy_score(le.transform(y_train), y_pred)\n",
        "precisions_train = precision_score(le.transform(y_train), y_pred, average='macro')\n",
        "recalls_train = recall_score(le.transform(y_train), y_pred, average='macro')\n",
        "f1s_train = f1_score(le.transform(y_train), y_pred, average='macro')\n",
        "fpr, tpr, ths = roc_curve(le.transform(y_train), y_pred)\n",
        "aucs_train = auc(fpr, tpr)\n",
        "print(\"The following are the metrics for Training\")\n",
        "print(\"\\nTrain Accuracy\\t\", train_Accuracy)\n",
        "print(\"Train Precision\\t\", precisions_train)\n",
        "print(\"Train Recall\\t\", recalls_train)\n",
        "print(\"Train F1\\t\", f1s_train)\n",
        "print(\"Train AUC\\t\", aucs_train)\n",
        "fpr, tpr, ths = roc_curve(le.transform(y_train), y_pred)\n",
        "plt.plot(fpr, tpr)\n",
        "plt.title('ROC curve')\n",
        "plt.xlabel('False Positive Rate')\n",
        "plt.ylabel('True Positive Rate')\n",
        "print(\"The confusuion matric for Training is\\n\", confusion_matrix(le.transform(y_train), y_pred))\n",
        "print('\\nArea under the Receiver Operating Characteristic curve:',\n",
        "      auc(fpr, tpr))"
      ]
    },
    {
      "cell_type": "markdown",
      "id": "d4311bec",
      "metadata": {
        "id": "d4311bec"
      },
      "source": [
        "# C. Classify test data based on their proximity to the centers of the clusters. Report the average accuracy, precision, recall, F1-score, and AUC over M runs, and ROC and the confusion matrix for one of the runs for the test data."
      ]
    },
    {
      "cell_type": "code",
      "execution_count": null,
      "id": "0187f990",
      "metadata": {
        "id": "0187f990",
        "outputId": "a7f0faac-c1ae-493b-dd2e-9dc9b83e1756"
      },
      "outputs": [
        {
          "name": "stdout",
          "output_type": "stream",
          "text": [
            "The following are the metrics for Testing\n",
            "\n",
            "Test Accuracy\t 0.9304347826086956\n",
            "Test Precision\t 0.9296308503625577\n",
            "Test Recall\t 0.9210271317829457\n",
            "Test F1\t\t 0.9249836921069797\n",
            "Test AUC\t 0.9210271317829458\n",
            "The confusuion matric for Training is\n",
            " [[69  3]\n",
            " [ 5 38]]\n",
            "\n",
            "Area under the Receiver Operating Characteristic curve: 0.9210271317829458\n"
          ]
        },
        {
          "data": {
            "image/png": "[encoded data removed]",
            "text/plain": [
              "<Figure size 432x288 with 1 Axes>"
            ]
          },
          "metadata": {
            "needs_background": "light"
          },
          "output_type": "display_data"
        }
      ],
      "source": [
        "y_pred = kmeans.predict(X_test)\n",
        "test_Accuracy = accuracy_score(le.transform(y_test), y_pred)\n",
        "precisions_test = precision_score(le.transform(y_test), y_pred, average='macro')\n",
        "recalls_test = recall_score(le.transform(y_test), y_pred, average='macro')\n",
        "f1s_test = f1_score(le.transform(y_test), y_pred, average='macro')\n",
        "fpr, tpr, ths = roc_curve(le.transform(y_test), y_pred)\n",
        "aucs_test = auc(fpr, tpr)\n",
        "print(\"The following are the metrics for Testing\")\n",
        "print(\"\\nTest Accuracy\\t\", test_Accuracy)\n",
        "print(\"Test Precision\\t\", precisions_test)\n",
        "print(\"Test Recall\\t\", recalls_test)\n",
        "print(\"Test F1\\t\\t\", f1s_test)\n",
        "print(\"Test AUC\\t\", aucs_test)\n",
        "fpr, tpr, ths = roc_curve(le.transform(y_test), y_pred)\n",
        "plt.plot(fpr, tpr)\n",
        "plt.title('ROC curve')\n",
        "plt.xlabel('False Positive Rate')\n",
        "plt.ylabel('True Positive Rate')\n",
        "print(\"The confusuion matric for Training is\\n\", confusion_matrix(le.transform(y_test), y_pred))\n",
        "print('\\nArea under the Receiver Operating Characteristic curve:',\n",
        "      auc(fpr, tpr))\n"
      ]
    },
    {
      "cell_type": "markdown",
      "id": "4568d30e",
      "metadata": {
        "id": "4568d30e"
      },
      "source": [
        "# iv. Spectral Clustering: Repeat 1(b)iii using spectral clustering, which is clus- tering based on kernels. Research what spectral clustering is."
      ]
    },
    {
      "cell_type": "markdown",
      "id": "ad2a5bde",
      "metadata": {
        "id": "ad2a5bde"
      },
      "source": [
        "## In practice Spectral Clustering is very useful when the structure of the individual clusters is highly non-convex, or more generally when a measure of the center and spread of the cluster is not a suitable description of the complete cluster, such as when clusters are nested circles on the 2D plane."
      ]
    },
    {
      "cell_type": "markdown",
      "id": "9fef988e",
      "metadata": {
        "id": "9fef988e"
      },
      "source": [
        "# iv. Use RBF kernel with gamma=1 or find a gamma for which the two clutsres have the same balance as the one in original data set (if the positive class has p and the negative class has n samples, the two clusters must have p and n members)."
      ]
    },
    {
      "cell_type": "code",
      "execution_count": null,
      "id": "652a3169",
      "metadata": {
        "id": "652a3169",
        "outputId": "f2aef7cd-eb50-404f-c838-e8b894e0ac64"
      },
      "outputs": [
        {
          "name": "stdout",
          "output_type": "stream",
          "text": [
            "For this gamma, the 2 clusters have number of datapoints as follows [292 162]\n",
            "which is close to the number of benign and malignant classes i training set- 285 169\n"
          ]
        }
      ],
      "source": [
        "clustering = SpectralClustering(n_clusters=2,assign_labels='discretize',\n",
        "     random_state=0, affinity= 'rbf', gamma = 0.1).fit(X_train)\n",
        "print('For this gamma, the 2 clusters have number of datapoints as follows', np.bincount(clustering.labels_))\n",
        "print('which is close to the number of benign and malignant classes i training set-',len(X_train_b), len(X_train_m))"
      ]
    },
    {
      "cell_type": "markdown",
      "id": "5c4daf0d",
      "metadata": {
        "id": "5c4daf0d"
      },
      "source": [
        "# iv. Do not label data based on their proximity to cluster center, because spectral clustering may give you non-convex clusters . Instead, use fit − predict method.\n"
      ]
    },
    {
      "cell_type": "markdown",
      "id": "c355354c",
      "metadata": {
        "id": "c355354c"
      },
      "source": [
        "## Reports for Training"
      ]
    },
    {
      "cell_type": "code",
      "execution_count": null,
      "id": "1b173e71",
      "metadata": {
        "id": "1b173e71",
        "outputId": "8fe47c0f-8449-4388-dcbe-a6bde26616f6"
      },
      "outputs": [
        {
          "name": "stdout",
          "output_type": "stream",
          "text": [
            "The following are the metrics for training\n",
            "\n",
            "train Accuracy\t 0.9317180616740088\n",
            "train Precision\t 0.9304287163876205\n",
            "train Recall\t 0.9227343506695733\n",
            "train F1\t\t 0.9263091205160561\n",
            "train AUC\t 0.9227343506695734\n",
            "\n",
            "\n",
            "The confusuion matric for training is\n",
            " [[273  12]\n",
            " [ 19 150]]\n",
            "\n",
            "\n",
            "Area under the Receiver Operating Characteristic curve: 0.9227343506695734\n"
          ]
        },
        {
          "data": {
            "image/png": "[encoded data removed]",
            "text/plain": [
              "<Figure size 432x288 with 1 Axes>"
            ]
          },
          "metadata": {
            "needs_background": "light"
          },
          "output_type": "display_data"
        }
      ],
      "source": [
        "y_pred = clustering.fit_predict(X_train)\n",
        "train_Accuracy = accuracy_score(le.transform(y_train), y_pred)\n",
        "precisions_train = precision_score(le.transform(y_train), y_pred, average='macro')\n",
        "recalls_train = recall_score(le.transform(y_train), y_pred, average='macro')\n",
        "f1s_train = f1_score(le.transform(y_train), y_pred, average='macro')\n",
        "fpr, tpr, ths = roc_curve(le.transform(y_train), y_pred)\n",
        "aucs_train = auc(fpr, tpr)\n",
        "print(\"The following are the metrics for training\")\n",
        "print(\"\\ntrain Accuracy\\t\", train_Accuracy)\n",
        "print(\"train Precision\\t\", precisions_train)\n",
        "print(\"train Recall\\t\", recalls_train)\n",
        "print(\"train F1\\t\\t\", f1s_train)\n",
        "print(\"train AUC\\t\", aucs_train)\n",
        "\n",
        "fpr, tpr, ths = roc_curve(le.transform(y_train), y_pred)\n",
        "plt.plot(fpr, tpr)\n",
        "plt.title('ROC curve')\n",
        "plt.xlabel('False Positive Rate')\n",
        "plt.ylabel('True Positive Rate')\n",
        "print(\"\\n\\nThe confusuion matric for training is\\n\", confusion_matrix(le.transform(y_train), y_pred))\n",
        "print('\\n\\nArea under the Receiver Operating Characteristic curve:',\n",
        "      auc(fpr, tpr))"
      ]
    },
    {
      "cell_type": "markdown",
      "id": "05692f04",
      "metadata": {
        "id": "05692f04"
      },
      "source": [
        "## Reports for Testing"
      ]
    },
    {
      "cell_type": "code",
      "execution_count": null,
      "id": "50cf8408",
      "metadata": {
        "id": "50cf8408",
        "outputId": "a4826589-e70d-4b26-b7e5-76e1dbcab76f"
      },
      "outputs": [
        {
          "name": "stdout",
          "output_type": "stream",
          "text": [
            "The following are the metrics for Testing\n",
            "\n",
            "Test Accuracy\t 0.9217391304347826\n",
            "Test Precision\t 0.9444444444444444\n",
            "Test Recall\t 0.8953488372093024\n",
            "Test F1\t\t 0.9121466768525592\n",
            "Test AUC\t 0.8953488372093024\n",
            "\n",
            "\n",
            "The confusuion matric for Testing is\n",
            " [[72  0]\n",
            " [ 9 34]]\n",
            "\n",
            "\n",
            "Area under the Receiver Operating Characteristic curve: 0.8953488372093024\n"
          ]
        },
        {
          "data": {
            "image/png": "[encoded data removed]",
            "text/plain": [
              "<Figure size 432x288 with 1 Axes>"
            ]
          },
          "metadata": {
            "needs_background": "light"
          },
          "output_type": "display_data"
        }
      ],
      "source": [
        "y_pred = clustering.fit_predict(X_test)\n",
        "test_Accuracy = accuracy_score(le.transform(y_test), y_pred)\n",
        "precisions_test = precision_score(le.transform(y_test), y_pred, average='macro')\n",
        "recalls_test = recall_score(le.transform(y_test), y_pred, average='macro')\n",
        "f1s_test = f1_score(le.transform(y_test), y_pred, average='macro')\n",
        "fpr, tpr, ths = roc_curve(le.transform(y_test), y_pred)\n",
        "aucs_test = auc(fpr, tpr)\n",
        "print(\"The following are the metrics for Testing\")\n",
        "print(\"\\nTest Accuracy\\t\", test_Accuracy)\n",
        "print(\"Test Precision\\t\", precisions_test)\n",
        "print(\"Test Recall\\t\", recalls_test)\n",
        "print(\"Test F1\\t\\t\", f1s_test)\n",
        "print(\"Test AUC\\t\", aucs_test)\n",
        "\n",
        "fpr, tpr, ths = roc_curve(le.transform(y_test), y_pred)\n",
        "plt.plot(fpr, tpr)\n",
        "plt.title('ROC curve')\n",
        "plt.xlabel('False Positive Rate')\n",
        "plt.ylabel('True Positive Rate')\n",
        "print(\"\\n\\nThe confusuion matric for Testing is\\n\", confusion_matrix(le.transform(y_test), y_pred))\n",
        "print('\\n\\nArea under the Receiver Operating Characteristic curve:',\n",
        "      auc(fpr, tpr))\n"
      ]
    },
    {
      "cell_type": "markdown",
      "id": "5bba9c5c",
      "metadata": {
        "id": "5bba9c5c"
      },
      "source": [
        "# v. One can expect that supervised learning on the full data set works better than semi-supervised learning with half of the data set labeled.One can expect that unsupervised learning underperforms in such situations. Compare the results you obtained by those methods."
      ]
    },
    {
      "cell_type": "markdown",
      "id": "9b166142",
      "metadata": {
        "id": "9b166142"
      },
      "source": [
        "\n",
        "### Following are the conclusive comparisons for each of the methods (Supervised SVM, Semi supervised SVM, Unsupervised Kmeans and Unsupervised Spectral Clustering)\n",
        "\n",
        "### The Supervised and Semi Supervised method performed the best on train as well as test sets. Unsupervised methods are not at par with Supervised and Semi Supervised methods. Amidst Unsupervised methods, Kmeans clustering performs slightly better than Spectral Clustering"
      ]
    }
  ],
  "metadata": {
    "kernelspec": {
      "display_name": "Python 3 (ipykernel)",
      "language": "python",
      "name": "python3"
    },
    "language_info": {
      "codemirror_mode": {
        "name": "ipython",
        "version": 3
      },
      "file_extension": ".py",
      "mimetype": "text/x-python",
      "name": "python",
      "nbconvert_exporter": "python",
      "pygments_lexer": "ipython3",
      "version": "3.9.7"
    },
    "colab": {
      "provenance": []
    }
  },
  "nbformat": 4,
  "nbformat_minor": 5
}